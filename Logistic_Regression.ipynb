{
 "cells": [
  {
   "cell_type": "markdown",
   "metadata": {
    "id": "A8RW2QHHFQYe"
   },
   "source": [
    "# Introduction\n",
    "\n",
    "We build a logistic regression model with PyTorch and perform training and prediction on the MNIST dataset.\n"
   ]
  },
  {
   "cell_type": "code",
   "execution_count": 1,
   "metadata": {
    "id": "LArjND15dGNh"
   },
   "outputs": [],
   "source": [
    "import random\n",
    "import numpy as np\n",
    "from sklearn.datasets import fetch_openml\n",
    "import seaborn as sb\n",
    "import matplotlib as mpl\n",
    "import matplotlib.pyplot as plt\n",
    "import seaborn as sn\n",
    "import pandas as pd\n",
    "import torch\n",
    "import pathlib\n",
    "from torchvision import datasets, transforms\n",
    "from torch.utils.data import DataLoader\n",
    "from torch.utils.data import sampler\n",
    "import fastprogress\n",
    "import tqdm"
   ]
  },
  {
   "cell_type": "markdown",
   "metadata": {
    "id": "gpqN-O0F_atv"
   },
   "source": [
    "## System checks\n",
    "\n",
    "Perform some rudimentary system checks. Do we have a CUDA-capable device? Multiple? Is CuDNN active (huge speedups for some networks)?"
   ]
  },
  {
   "cell_type": "code",
   "execution_count": 2,
   "metadata": {
    "colab": {
     "base_uri": "https://localhost:8080/"
    },
    "id": "b1r5yPHY_hsl",
    "outputId": "c0cf5d01-704a-403f-a4cf-4ab95d5fff3b"
   },
   "outputs": [
    {
     "data": {
      "text/plain": [
       "(True, True, 1)"
      ]
     },
     "execution_count": 2,
     "metadata": {},
     "output_type": "execute_result"
    }
   ],
   "source": [
    "torch.cuda.is_available(), torch.backends.cudnn.is_available(), torch.cuda.device_count()"
   ]
  },
  {
   "cell_type": "markdown",
   "metadata": {
    "id": "olx30IjdagoU"
   },
   "source": [
    "Now check the availability again."
   ]
  },
  {
   "cell_type": "code",
   "execution_count": 3,
   "metadata": {
    "colab": {
     "base_uri": "https://localhost:8080/"
    },
    "id": "MMCbCpAFao6q",
    "outputId": "c84bd5e2-d913-444d-cc4e-3d4a1e324984"
   },
   "outputs": [
    {
     "data": {
      "text/plain": [
       "(True, True, 1, 0)"
      ]
     },
     "execution_count": 3,
     "metadata": {},
     "output_type": "execute_result"
    }
   ],
   "source": [
    "torch.cuda.is_available(), torch.backends.cudnn.is_available(), torch.cuda.device_count(), torch.cuda.current_device()"
   ]
  },
  {
   "cell_type": "markdown",
   "metadata": {
    "id": "zbFbqGzT_ksO"
   },
   "source": [
    "Choose your device for computation. CPU or one of your CUDA devices?"
   ]
  },
  {
   "cell_type": "code",
   "execution_count": 4,
   "metadata": {
    "colab": {
     "base_uri": "https://localhost:8080/"
    },
    "id": "dk3DvooB_nFx",
    "outputId": "c85d579e-c86c-4390-fcc6-92adb7912031"
   },
   "outputs": [
    {
     "name": "stdout",
     "output_type": "stream",
     "text": [
      "Using device cuda\n"
     ]
    }
   ],
   "source": [
    "use_cuda = True\n",
    "use_cuda = False if not use_cuda else torch.cuda.is_available()\n",
    "device = torch.device('cuda' if use_cuda else 'cpu')\n",
    "torch.cuda.get_device_name(device) if use_cuda else 'cpu'\n",
    "print('Using device', device)"
   ]
  },
  {
   "cell_type": "markdown",
   "metadata": {
    "id": "kGmTWnQYq2Ug"
   },
   "source": [
    "# PyTorch: Some fundamendtal operations with tensors"
   ]
  },
  {
   "cell_type": "code",
   "execution_count": 5,
   "metadata": {
    "id": "gadPm82Ce7NA"
   },
   "outputs": [],
   "source": [
    "# create numpy array\n",
    "numpyarray = np.arange(10).reshape(2, 5)\n",
    "# convert to pytorch tensor\n",
    "a = torch.from_numpy(numpyarray)"
   ]
  },
  {
   "cell_type": "markdown",
   "metadata": {
    "id": "aUpPhyFZfMWM"
   },
   "source": [
    "Let us find out what the properties of this tensor 'a' are."
   ]
  },
  {
   "cell_type": "code",
   "execution_count": 6,
   "metadata": {
    "colab": {
     "base_uri": "https://localhost:8080/"
    },
    "id": "DbD1a1PEfu-5",
    "outputId": "645a3778-2a5e-4846-ed2a-5f7e0020aac2"
   },
   "outputs": [
    {
     "name": "stdout",
     "output_type": "stream",
     "text": [
      "tensor([[0, 1, 2, 3, 4],\n",
      "        [5, 6, 7, 8, 9]])\n"
     ]
    }
   ],
   "source": [
    "print(a)\n"
   ]
  },
  {
   "cell_type": "code",
   "execution_count": 7,
   "metadata": {
    "colab": {
     "base_uri": "https://localhost:8080/"
    },
    "id": "2SK56a7Rf7w1",
    "outputId": "869e28f6-3a27-418b-8d87-0306e9ab4c51"
   },
   "outputs": [
    {
     "name": "stdout",
     "output_type": "stream",
     "text": [
      "<class 'torch.Tensor'>\n",
      "torch.int64\n"
     ]
    }
   ],
   "source": [
    "print(type(a))\n",
    "print(a.dtype)"
   ]
  },
  {
   "cell_type": "code",
   "execution_count": 8,
   "metadata": {
    "colab": {
     "base_uri": "https://localhost:8080/"
    },
    "id": "Q4pQdKBEf-fq",
    "outputId": "7ecfeec9-c104-41a2-c4c2-51d02af92ed3"
   },
   "outputs": [
    {
     "name": "stdout",
     "output_type": "stream",
     "text": [
      "torch.Size([2, 5])\n"
     ]
    }
   ],
   "source": [
    "print(a.shape)"
   ]
  },
  {
   "cell_type": "code",
   "execution_count": 9,
   "metadata": {
    "colab": {
     "base_uri": "https://localhost:8080/"
    },
    "id": "wpPKk4_jgFGK",
    "outputId": "859bc460-70cb-40f8-992f-b1618e86a32c"
   },
   "outputs": [
    {
     "name": "stdout",
     "output_type": "stream",
     "text": [
      "torch.Size([2, 5])\n",
      "10\n"
     ]
    }
   ],
   "source": [
    "print(a.size())\n",
    "print(a.numel())"
   ]
  },
  {
   "cell_type": "code",
   "execution_count": 10,
   "metadata": {
    "colab": {
     "base_uri": "https://localhost:8080/"
    },
    "id": "mA6fS0Bo0iWP",
    "outputId": "89d5d1df-6c32-4f68-cdaf-028404f82da6"
   },
   "outputs": [
    {
     "name": "stdout",
     "output_type": "stream",
     "text": [
      "10\n",
      "(2, 5)\n"
     ]
    }
   ],
   "source": [
    "#create a new numpy array out of the tensor and print its size\n",
    "np_a = np.array(a)\n",
    "print(np_a.size)\n",
    "print(np_a.shape)"
   ]
  },
  {
   "cell_type": "markdown",
   "metadata": {
    "id": "g48rvntriAwy"
   },
   "source": [
    "Let's create some new tensors."
   ]
  },
  {
   "cell_type": "code",
   "execution_count": 11,
   "metadata": {
    "colab": {
     "base_uri": "https://localhost:8080/"
    },
    "id": "IbJHIVPKic65",
    "outputId": "61a984c6-2c08-46a4-f3b3-a0a8d308abd9"
   },
   "outputs": [
    {
     "name": "stdout",
     "output_type": "stream",
     "text": [
      "tensor([[1, 1, 1, 1, 1],\n",
      "        [1, 1, 1, 1, 1]], dtype=torch.int8)\n"
     ]
    }
   ],
   "source": [
    "# create tensor (2,5) filled with ones of type int and print it\n",
    "a_1 = torch.from_numpy(np.ones((2,5), dtype=np.int8))\n",
    "print(a_1)"
   ]
  },
  {
   "cell_type": "code",
   "execution_count": 12,
   "metadata": {
    "colab": {
     "base_uri": "https://localhost:8080/"
    },
    "id": "3GgCNZ3ei0J7",
    "outputId": "748d8795-0bcb-4fe1-997e-216fb5cca287"
   },
   "outputs": [
    {
     "name": "stdout",
     "output_type": "stream",
     "text": [
      "tensor([[0, 0, 0, 0],\n",
      "        [0, 0, 0, 0],\n",
      "        [0, 0, 0, 0]], dtype=torch.int8)\n"
     ]
    }
   ],
   "source": [
    "# create tensor (3,4) filled with zeros and print it\n",
    "a_0 = torch.from_numpy(np.zeros((3,4), dtype=np.int8))\n",
    "print(a_0)"
   ]
  },
  {
   "cell_type": "code",
   "execution_count": 13,
   "metadata": {
    "colab": {
     "base_uri": "https://localhost:8080/"
    },
    "id": "y_G9-xG1jJE6",
    "outputId": "7ee0e4bf-718d-42eb-f827-f9299dd7976a"
   },
   "outputs": [
    {
     "name": "stdout",
     "output_type": "stream",
     "text": [
      "tensor([[0, 0, 0],\n",
      "        [0, 0, 0],\n",
      "        [0, 0, 0],\n",
      "        [0, 0, 0]], dtype=torch.int8)\n"
     ]
    }
   ],
   "source": [
    "# transpose a\n",
    "a_0_T = torch.transpose(a_0, 0 ,1)\n",
    "print(a_0_T)"
   ]
  },
  {
   "cell_type": "markdown",
   "metadata": {
    "id": "NLMyDyWHWFWc"
   },
   "source": [
    "Now change a value in the numpy array. Does the corresponding tensor change?"
   ]
  },
  {
   "cell_type": "code",
   "execution_count": 14,
   "metadata": {
    "colab": {
     "base_uri": "https://localhost:8080/"
    },
    "id": "Ufbn0kQKVU2e",
    "outputId": "f77fb51c-eb05-4920-eacf-b7deb51d7781"
   },
   "outputs": [
    {
     "name": "stdout",
     "output_type": "stream",
     "text": [
      "tensor([[2., 1.],\n",
      "        [1., 1.]], dtype=torch.float64)\n",
      "[[2. 1.]\n",
      " [1. 1.]]\n"
     ]
    }
   ],
   "source": [
    "# change value in numpy array and inspect the tensor a\n",
    "np_array = np.ones((2,2))\n",
    "a = torch.from_numpy(np_array)\n",
    "np_array[0,0] = 2\n",
    "print(a)\n",
    "print(np_array)\n"
   ]
  },
  {
   "cell_type": "code",
   "execution_count": 15,
   "metadata": {
    "colab": {
     "base_uri": "https://localhost:8080/"
    },
    "id": "Th63Nc_8IJrR",
    "outputId": "df69ae80-8a4b-4fd1-edca-f0eed9c83fbe"
   },
   "outputs": [
    {
     "name": "stdout",
     "output_type": "stream",
     "text": [
      "tensor([[2., 1.],\n",
      "        [1., 1.]], dtype=torch.float64)\n",
      "[[2. 1.]\n",
      " [1. 1.]]\n"
     ]
    }
   ],
   "source": [
    "np_array = np.ones((2,2))\n",
    "a = torch.from_numpy(np_array)\n",
    "a[0,0] = 2\n",
    "print(a)\n",
    "print(np_array)"
   ]
  },
  {
   "cell_type": "markdown",
   "metadata": {
    "id": "-6n92SYfyW9_"
   },
   "source": [
    "Now we want to make use of the different devices available, namely cpu and gpu. "
   ]
  },
  {
   "cell_type": "code",
   "execution_count": 16,
   "metadata": {
    "colab": {
     "base_uri": "https://localhost:8080/"
    },
    "id": "XrFr7fLfyyCB",
    "outputId": "2ef9045f-1727-45b7-f290-27b665d7a2b6"
   },
   "outputs": [
    {
     "name": "stdout",
     "output_type": "stream",
     "text": [
      "tensor([[2, 1, 2, 3, 4],\n",
      "        [5, 6, 7, 8, 9]])\n",
      "tensor([[0, 1, 2, 3, 4],\n",
      "        [5, 6, 7, 8, 9]], device='cuda:0')\n"
     ]
    }
   ],
   "source": [
    "# create numpy array\n",
    "numpyarray = np.arange(10).reshape(2, 5)\n",
    "# convert to pytorch tensor\n",
    "a = torch.from_numpy(numpyarray)\n",
    "\n",
    "\n",
    "# move 'a' to the gpu\n",
    "a_gpu = a.to(device)\n",
    "a[0,0] = 2\n",
    "print(a)\n",
    "print(a_gpu)"
   ]
  },
  {
   "cell_type": "markdown",
   "metadata": {
    "id": "tpsJ004ud8lL"
   },
   "source": [
    "## Data loading"
   ]
  },
  {
   "cell_type": "markdown",
   "metadata": {
    "id": "VY01lmDfwgYY"
   },
   "source": [
    "### Loading the MNIST Dataset\n",
    "This dataset contains handwritten digits, and it is widely used by the machine learning community.\n"
   ]
  },
  {
   "cell_type": "markdown",
   "metadata": {
    "id": "qz0fKK90vApA"
   },
   "source": [
    "**Download** the train split of the MNIST dataset using torchvision dataset classes."
   ]
  },
  {
   "cell_type": "code",
   "execution_count": 17,
   "metadata": {
    "colab": {
     "base_uri": "https://localhost:8080/",
     "height": 471,
     "referenced_widgets": [
      "94667618c7524142b443bdd481012bb7",
      "f8023f0a0ea147dc9ef880c1e8bfd821",
      "2e4a9bbde87047ff84a02ddf45cb26fd",
      "3991f9ceea354122a4393bc9b53f0104",
      "c730a4971b8947e9860e6882343dbf45",
      "75d5af6bed554a15b67df7f58d6cefac",
      "00fc695366954d2982c0288a1a56d7da",
      "4f05b7453cf044919b759d2a1a217c70",
      "70c9ea50c507463f9a4d737567dc3bca",
      "180f06294ff8485dbceec9b06c6e2a01",
      "6c59a31393344b87b6d76d6be94c5e46",
      "02fc98244239489297f6c0014dcb8e0b",
      "36907617b9e544e3b4d0a9e3b8f6abe0",
      "7a165f42d08c477ba4d60f2c563838ba",
      "e1077407eb15472d96d080216e5226c1",
      "dc871215ba1a42a49a6d5cf39c101172",
      "d18bfb5f79154bdf884aa10f3c3f2a98",
      "af4d34f6188646ee95c43e18f9f16007",
      "0808bcee4f0c4c039ac00660dae1da8d",
      "f698bf5eb74b4d69ad21f6233908530e",
      "3a3149c914f14eb7ae10c961baf8e64e",
      "4380bdbf75bc4b798b2386530c9229f9",
      "4ea86072d63846f5b920f2714f5d7e79",
      "125939147eef42ec94717c32d307080b",
      "7af36dedd21d43d8a80d10c86cb32d1e",
      "4f18f0223fd9411eb4be0e8f4b141831",
      "7f871417ff4a4a528fe9b58bbcfdabd3",
      "b9551fa6180846e18b0b21135269f82c",
      "ae7081b76d7646029fbbcb24f25d3b00",
      "6fd765d46a3c4914a9acc3c04f00226b",
      "a96fad193fcf40beb74cddbacbdf250a",
      "4124de003dd24a8f8c601d2e8ff53554",
      "b0cbc9157a4341b48b6d1e8138fa33fd",
      "85861a10ee3c4a7d8bfc22dac5906547",
      "c582b4bec30b4ac5af09e5263bf59aa1",
      "9c9ca0401f8a497d8b7477aea56dfc25",
      "10c9c50d03ee45f5aaf5a8c93e074485",
      "1b44e8289a7446ad8afb1277f94e2f3c",
      "db677e22c94b4b7aa8b8d8de0515d70f",
      "97aa352dc5c14616b6b38d7ed3f4dcaf",
      "faff48ec28234fedb65626aa9416c6cd",
      "437ed9a5fadb4de18921390840b18962",
      "7730b07b33a6429b99c3e226314ee2d2",
      "d7e4d168d6d442969017296d7b4159ba"
     ]
    },
    "id": "utjtGRHcvCgd",
    "outputId": "a91331b0-3ce2-4ef2-8ba6-5cdb7d622e46"
   },
   "outputs": [
    {
     "name": "stdout",
     "output_type": "stream",
     "text": [
      "Downloading http://yann.lecun.com/exdb/mnist/train-images-idx3-ubyte.gz\n",
      "Downloading http://yann.lecun.com/exdb/mnist/train-images-idx3-ubyte.gz to data/MNIST/raw/train-images-idx3-ubyte.gz\n"
     ]
    },
    {
     "data": {
      "application/vnd.jupyter.widget-view+json": {
       "model_id": "94667618c7524142b443bdd481012bb7",
       "version_major": 2,
       "version_minor": 0
      },
      "text/plain": [
       "  0%|          | 0/9912422 [00:00<?, ?it/s]"
      ]
     },
     "metadata": {},
     "output_type": "display_data"
    },
    {
     "name": "stdout",
     "output_type": "stream",
     "text": [
      "Extracting data/MNIST/raw/train-images-idx3-ubyte.gz to data/MNIST/raw\n",
      "\n",
      "Downloading http://yann.lecun.com/exdb/mnist/train-labels-idx1-ubyte.gz\n",
      "Downloading http://yann.lecun.com/exdb/mnist/train-labels-idx1-ubyte.gz to data/MNIST/raw/train-labels-idx1-ubyte.gz\n"
     ]
    },
    {
     "data": {
      "application/vnd.jupyter.widget-view+json": {
       "model_id": "02fc98244239489297f6c0014dcb8e0b",
       "version_major": 2,
       "version_minor": 0
      },
      "text/plain": [
       "  0%|          | 0/28881 [00:00<?, ?it/s]"
      ]
     },
     "metadata": {},
     "output_type": "display_data"
    },
    {
     "name": "stdout",
     "output_type": "stream",
     "text": [
      "Extracting data/MNIST/raw/train-labels-idx1-ubyte.gz to data/MNIST/raw\n",
      "\n",
      "Downloading http://yann.lecun.com/exdb/mnist/t10k-images-idx3-ubyte.gz\n",
      "Downloading http://yann.lecun.com/exdb/mnist/t10k-images-idx3-ubyte.gz to data/MNIST/raw/t10k-images-idx3-ubyte.gz\n"
     ]
    },
    {
     "data": {
      "application/vnd.jupyter.widget-view+json": {
       "model_id": "4ea86072d63846f5b920f2714f5d7e79",
       "version_major": 2,
       "version_minor": 0
      },
      "text/plain": [
       "  0%|          | 0/1648877 [00:00<?, ?it/s]"
      ]
     },
     "metadata": {},
     "output_type": "display_data"
    },
    {
     "name": "stdout",
     "output_type": "stream",
     "text": [
      "Extracting data/MNIST/raw/t10k-images-idx3-ubyte.gz to data/MNIST/raw\n",
      "\n",
      "Downloading http://yann.lecun.com/exdb/mnist/t10k-labels-idx1-ubyte.gz\n",
      "Downloading http://yann.lecun.com/exdb/mnist/t10k-labels-idx1-ubyte.gz to data/MNIST/raw/t10k-labels-idx1-ubyte.gz\n"
     ]
    },
    {
     "data": {
      "application/vnd.jupyter.widget-view+json": {
       "model_id": "85861a10ee3c4a7d8bfc22dac5906547",
       "version_major": 2,
       "version_minor": 0
      },
      "text/plain": [
       "  0%|          | 0/4542 [00:00<?, ?it/s]"
      ]
     },
     "metadata": {},
     "output_type": "display_data"
    },
    {
     "name": "stdout",
     "output_type": "stream",
     "text": [
      "Extracting data/MNIST/raw/t10k-labels-idx1-ubyte.gz to data/MNIST/raw\n",
      "\n"
     ]
    },
    {
     "name": "stderr",
     "output_type": "stream",
     "text": [
      "/usr/local/lib/python3.7/dist-packages/torchvision/datasets/mnist.py:498: UserWarning: The given NumPy array is not writeable, and PyTorch does not support non-writeable tensors. This means you can write to the underlying (supposedly non-writeable) NumPy array using the tensor. You may want to copy the array to protect its data or make it writeable before converting it to a tensor. This type of warning will be suppressed for the rest of this program. (Triggered internally at  /pytorch/torch/csrc/utils/tensor_numpy.cpp:180.)\n",
      "  return torch.from_numpy(parsed.astype(m[2], copy=False)).view(*s)\n"
     ]
    }
   ],
   "source": [
    "data_dir = pathlib.Path('data/')\n",
    "mnist = datasets.MNIST(data_dir, download=True, train=True)"
   ]
  },
  {
   "cell_type": "markdown",
   "metadata": {
    "id": "3V34jLJ-vX5P"
   },
   "source": [
    "Let's check the first ten samples to see what they look like"
   ]
  },
  {
   "cell_type": "code",
   "execution_count": 18,
   "metadata": {
    "colab": {
     "base_uri": "https://localhost:8080/",
     "height": 299
    },
    "id": "V1mbfCdEUfPM",
    "outputId": "8defadf7-a926-496d-d6f8-b59b4b131a06"
   },
   "outputs": [
    {
     "name": "stdout",
     "output_type": "stream",
     "text": [
      "<PIL.Image.Image image mode=L size=28x28 at 0x7FB5A7D3B5D0>\n",
      "5\n"
     ]
    },
    {
     "data": {
      "image/png": "[encoded data removed]",
      "text/plain": [
       "<Figure size 432x288 with 1 Axes>"
      ]
     },
     "metadata": {
      "needs_background": "light"
     },
     "output_type": "display_data"
    }
   ],
   "source": [
    "X_sample, y_sample = mnist[0]\n",
    "#display the label and the image\n",
    "print(X_sample)\n",
    "mpl.pyplot.imshow(np.asarray(X_sample), cmap='gray')\n",
    "print(y_sample)"
   ]
  },
  {
   "cell_type": "markdown",
   "metadata": {
    "id": "rjwoK4uoyyom"
   },
   "source": [
    "Look at the types of X and y."
   ]
  },
  {
   "cell_type": "code",
   "execution_count": 19,
   "metadata": {
    "colab": {
     "base_uri": "https://localhost:8080/"
    },
    "id": "-esZPsHJyyon",
    "outputId": "d640db5f-f5d5-4b11-8de2-6e2f8d1bed97"
   },
   "outputs": [
    {
     "name": "stdout",
     "output_type": "stream",
     "text": [
      "<class 'PIL.Image.Image'>\n",
      "<class 'int'>\n"
     ]
    }
   ],
   "source": [
    "#display types\n",
    "print(type(X_sample))\n",
    "print(type(y_sample))\n"
   ]
  },
  {
   "cell_type": "markdown",
   "metadata": {
    "id": "3HBk4RHHypXv"
   },
   "source": [
    "How many data points are there in the dataset?"
   ]
  },
  {
   "cell_type": "code",
   "execution_count": 20,
   "metadata": {
    "colab": {
     "base_uri": "https://localhost:8080/"
    },
    "id": "9LQZ5xblyxOo",
    "outputId": "526cacab-5727-43b6-9084-96c09adbee68"
   },
   "outputs": [
    {
     "name": "stdout",
     "output_type": "stream",
     "text": [
      "60000\n"
     ]
    }
   ],
   "source": [
    "#print out the length of the dataset\n",
    "print(len(mnist))"
   ]
  },
  {
   "cell_type": "code",
   "execution_count": 21,
   "metadata": {
    "colab": {
     "base_uri": "https://localhost:8080/",
     "height": 141
    },
    "id": "qtAkG-5ez4KH",
    "outputId": "397739ce-d3b0-41be-9d91-687a5ecc84c2"
   },
   "outputs": [
    {
     "data": {
      "image/png": "[encoded data removed]",
      "text/plain": [
       "<Figure size 1440x144 with 10 Axes>"
      ]
     },
     "metadata": {
      "needs_background": "light"
     },
     "output_type": "display_data"
    }
   ],
   "source": [
    "N = 10\n",
    "fig, axes = plt.subplots(1, N, figsize=(2*N, 2))\n",
    "X, y = mnist.data, mnist.targets\n",
    "for ax, image, label in zip(axes.ravel(), X, y):\n",
    "  ax.set_title(\"label: {}\".format(label))\n",
    "  ax.axis('off')\n",
    "  ax.imshow(image.reshape(28,28), cmap='gray') # Remember, images are 28x28"
   ]
  },
  {
   "cell_type": "markdown",
   "metadata": {
    "id": "FXCyRAxkija7"
   },
   "source": [
    "Now that you know what MNIST looks like, you can guess what the task you can do with the dataset is: classifying handwritten digits."
   ]
  },
  {
   "cell_type": "markdown",
   "metadata": {
    "id": "CX3GjFu6fxlr"
   },
   "source": [
    "### Preprocessing the data"
   ]
  },
  {
   "cell_type": "markdown",
   "metadata": {
    "id": "v-tajbPdzAV6"
   },
   "source": [
    "#### Transformation\n",
    "\n",
    "We have seen above that the contents of the data set are of type [(PIL.Image.Image, Int)]. However, pytorch (the core that is, not torchvision or torchtext) is only equipped to work on Tensor objects. So we need to **transform** _PIL.Image.Image_ to _torch.Tensor_. Torchvision takes care of that for us. _transforms.ToTensor_ is a transformation operation that maps a _PIL.Image.Image_ to a torch tensor."
   ]
  },
  {
   "cell_type": "code",
   "execution_count": 22,
   "metadata": {
    "id": "3_4dfCe-elWU"
   },
   "outputs": [],
   "source": [
    "mnist = datasets.MNIST(data_dir, download=True, train=True, transform=transforms.ToTensor())"
   ]
  },
  {
   "cell_type": "markdown",
   "metadata": {
    "id": "7oMMXeCEPIjO"
   },
   "source": [
    "#### Normalization\n"
   ]
  },
  {
   "cell_type": "markdown",
   "metadata": {
    "id": "Swggb0KdPLhE"
   },
   "source": [
    "Furthermore, we will **normalize** the data to zero-mean and unit-variance. _transforms.Normalize_ takes the mean and std-dev for each channel and rescales the data to zero-mean, unit-variance. \n",
    "\n",
    "So let's create a new dataset that we will be using for testing purposes with those transformations in-place.\n"
   ]
  },
  {
   "cell_type": "code",
   "execution_count": 23,
   "metadata": {
    "id": "s2UA-KeB0iYH"
   },
   "outputs": [],
   "source": [
    "tmp_dataloader = torch.utils.data.DataLoader(mnist, batch_size=len(mnist), shuffle=True)"
   ]
  },
  {
   "cell_type": "code",
   "execution_count": 24,
   "metadata": {
    "colab": {
     "base_uri": "https://localhost:8080/"
    },
    "id": "9bdlJqgJYE9r",
    "outputId": "316eca0d-e8f1-4aee-c44c-afeced24e622"
   },
   "outputs": [
    {
     "name": "stdout",
     "output_type": "stream",
     "text": [
      "0.13066047219669116\n",
      "0.30810780244715075\n"
     ]
    }
   ],
   "source": [
    "#calculate mean and standard deviation of MNIST train dataset\n",
    "mean = float(torch.mean(mnist.data*1.0)) / 255\n",
    "std = float(torch.std(mnist.data*1.0)) / 255\n",
    "\n",
    "print(mean)\n",
    "print(std)"
   ]
  },
  {
   "cell_type": "code",
   "execution_count": 25,
   "metadata": {
    "id": "q5KR3dhPYFSI"
   },
   "outputs": [],
   "source": [
    "mnist_transforms = transforms.Compose([transforms.ToTensor(), transforms.Normalize((mean,), (std,))])"
   ]
  },
  {
   "cell_type": "markdown",
   "metadata": {
    "id": "fvHI6P24IqZ3"
   },
   "source": [
    "### Training, Validation and Test Sets\n",
    "\n",
    "For the correct fitting of a neural network model we need three datasets: one for training, one for validation in the training process, and the last one for testing the results of the training on unseen data."
   ]
  },
  {
   "cell_type": "markdown",
   "metadata": {
    "id": "5fZwvBwZUqfE"
   },
   "source": [
    "We first need to **load** the datasets.\n",
    "Above, we did that already to visualize the data and calculate normalization values.\n",
    "Now we load them and **apply the normalization transform** in this process."
   ]
  },
  {
   "cell_type": "code",
   "execution_count": 26,
   "metadata": {
    "id": "RSoNJGNECGw8"
   },
   "outputs": [],
   "source": [
    "#download the dataset for training and testing, with normalization transform\n",
    "#mnist_transforms = transforms.Compose([transforms.ToTensor(), transforms.Normalize((255.0/2,), (255.0/2,))])\n",
    "mnist_train = datasets.MNIST(data_dir, download=True, train=True, transform=mnist_transforms)\n",
    "mnist_test = datasets.MNIST(data_dir, download=True, train=False, transform=mnist_transforms)"
   ]
  },
  {
   "cell_type": "markdown",
   "metadata": {
    "id": "kgBH3RfQUuz6"
   },
   "source": [
    "We need to **split** the train dataset in two sets, one for training and one for validation. \n",
    "Take 10 % of the dataset as validation set.\n",
    "Assign samples *randomly* to the training and validation set, using a fixed seed to ensure reproducibility."
   ]
  },
  {
   "cell_type": "code",
   "execution_count": 27,
   "metadata": {
    "id": "cf2DznpJT8wK"
   },
   "outputs": [],
   "source": [
    "#split the train dataset in mnist_train and mnist_val\n",
    "validation_p = 0.1\n",
    "mnist_train, mnist_val = torch.utils.data.random_split(mnist_train, [int(len(mnist_train)*(1-validation_p)), len(mnist_train)-int(len(mnist_train)*(1-validation_p))], generator=torch.Generator().manual_seed(0))\n"
   ]
  },
  {
   "cell_type": "code",
   "execution_count": 28,
   "metadata": {
    "colab": {
     "base_uri": "https://localhost:8080/"
    },
    "id": "JMBUHrn9z5C6",
    "outputId": "5c572ed4-56db-4bd1-f397-21aed68862b2"
   },
   "outputs": [
    {
     "name": "stdout",
     "output_type": "stream",
     "text": [
      "54000\n",
      "6000\n",
      "10000\n"
     ]
    }
   ],
   "source": [
    "print(len(mnist_train))\n",
    "print(len(mnist_val))\n",
    "print(len(mnist_test))\n"
   ]
  },
  {
   "cell_type": "markdown",
   "metadata": {
    "id": "B6LDumpJUw-x"
   },
   "source": [
    "To load the data for model training, we need to define the **dataloaders**.\n",
    "A dataloader represents a Python iterable over a dataset and draws mini batches with random samples.\n"
   ]
  },
  {
   "cell_type": "code",
   "execution_count": 29,
   "metadata": {
    "id": "Z-8kQnghANgs"
   },
   "outputs": [],
   "source": [
    "batch_size = 256"
   ]
  },
  {
   "cell_type": "code",
   "execution_count": 30,
   "metadata": {
    "id": "6wOV2iQYKA4Y"
   },
   "outputs": [],
   "source": [
    "#create dataloader for training, validation and test\n",
    "train_dataloader = torch.utils.data.DataLoader(mnist_train, batch_size=batch_size, shuffle=True)\n",
    "val_dataloader = torch.utils.data.DataLoader(mnist_val, batch_size=batch_size, shuffle=True)\n",
    "test_dataloader = torch.utils.data.DataLoader(mnist_test, batch_size=batch_size, shuffle=True)"
   ]
  },
  {
   "cell_type": "markdown",
   "metadata": {
    "id": "_kD_tfv7EhBV"
   },
   "source": [
    "Let's get a data point now to see what we're dealing with. \n",
    "\n",
    "For this, you might want to check out how python's iterator protocol works. It's simple and will give you an important insight into python: https://wiki.python.org/moin/Iterator."
   ]
  },
  {
   "cell_type": "code",
   "execution_count": null,
   "metadata": {
    "id": "bROYEcbCEjpB"
   },
   "outputs": [],
   "source": [
    "# display an element of the train_dataloader\n",
    "for i_batch, sample_batch in enumerate(train_dataloader):\n",
    "    print(i_batch, sample_batch)\n",
    "    break"
   ]
  },
  {
   "cell_type": "code",
   "execution_count": 33,
   "metadata": {
    "colab": {
     "base_uri": "https://localhost:8080/"
    },
    "id": "YJwRzi_MHfyV",
    "outputId": "b4af3f66-e1a5-43ed-f9af-990c8b6a04f7"
   },
   "outputs": [
    {
     "name": "stdout",
     "output_type": "stream",
     "text": [
      "X_shape: torch.Size([256, 1, 28, 28]) Y_shape: torch.Size([256])\n"
     ]
    }
   ],
   "source": [
    "# display the dimensions of x and y\n",
    "for i_batch, (X, y) in enumerate(train_dataloader):\n",
    "    print(f\"X_shape: {X.shape} Y_shape: {y.shape}\")\n",
    "    break"
   ]
  },
  {
   "cell_type": "markdown",
   "metadata": {
    "id": "P4VmDBNvCmkp"
   },
   "source": [
    "x has size (\\[batchsize\\], 1, 28, 28) --> 256 batches (or whatever you have defined in your data loader), 1 channel (the images are monochrome), and the dimensions of the images are 28 height/rows and 28 width/cols.\n",
    "\n",
    "y has size (\\[batchsize\\]) --> 256 images (again depends on your data loader config). There's one label for each of the images in the batch."
   ]
  },
  {
   "cell_type": "markdown",
   "metadata": {
    "id": "W0Pa_bWEjqDf"
   },
   "source": [
    "## Specify model & optimizer"
   ]
  },
  {
   "cell_type": "markdown",
   "metadata": {
    "id": "EasgugDjSSrt"
   },
   "source": [
    "### Specify a model\n",
    "\n",
    "The task is now to define a model to train on the data. Here, we only use **one fully-connected layer** as defined in *torch.nn.Linear* that produces a predicted label for a specific training image.\n",
    "\n",
    "Before, we set some variables: \n",
    "- the input and output size of the linear layer\n",
    "- how long we want to train the model (number of epochs) and \n",
    "- the learning rate.\n"
   ]
  },
  {
   "cell_type": "code",
   "execution_count": 34,
   "metadata": {
    "id": "ZUq3zcWgMVwD"
   },
   "outputs": [],
   "source": [
    "epochs = 10\n",
    "input_dim = 28 * 28\n",
    "output_dim = 10\n",
    "lr = 0.001"
   ]
  },
  {
   "cell_type": "code",
   "execution_count": 35,
   "metadata": {
    "id": "FBQhYDR1MDUr"
   },
   "outputs": [],
   "source": [
    "class LogisticRegression(torch.nn.Module):\n",
    "    \"\"\"\n",
    "    Logistic regression model\n",
    "    inherits the torch.nn.Module which is the base class \n",
    "    for all neural network modules.\n",
    "    \"\"\"\n",
    "    def __init__(self, input_dim, output_dim):\n",
    "        \"\"\" Initializes internal Module state. \"\"\"\n",
    "        super(LogisticRegression, self).__init__()\n",
    "        self.linear = torch.nn.Linear(input_dim, output_dim)\n",
    "        #define linear layer for the model\n",
    "\n",
    "\n",
    "    def forward(self, x):\n",
    "        \"\"\" Defines the computation performed at every call. \"\"\"\n",
    "        # What are the dimensions of your input layer? \n",
    "        #flatten the input to a suitable size for the initial layer\n",
    "        \n",
    "        #run the data through the layer\n",
    "        outputs = self.linear(torch.flatten(x, start_dim=1, end_dim=-1)) #2d Tensor 28x28 -> 1d Tensor 781 for each batch -> start_dim = 1 \n",
    "        return outputs"
   ]
  },
  {
   "cell_type": "markdown",
   "metadata": {
    "id": "NhtEaHPxw3Hu"
   },
   "source": [
    "### Instantiate the model\n",
    "\n",
    "Let us instantiate the model and take a look at the inside. It is always a good idea to verify that the actual architecture is what you intended it to be. Especially, when you start to create layers dynamically it is great for inspection/verification/debugging."
   ]
  },
  {
   "cell_type": "code",
   "execution_count": 36,
   "metadata": {
    "colab": {
     "base_uri": "https://localhost:8080/"
    },
    "id": "9h8Zg06BOkft",
    "outputId": "10e3b172-f88f-4665-ed44-0e1af810e16f"
   },
   "outputs": [
    {
     "name": "stdout",
     "output_type": "stream",
     "text": [
      "LogisticRegression(\n",
      "  (linear): Linear(in_features=784, out_features=10, bias=True)\n",
      ")\n"
     ]
    }
   ],
   "source": [
    "# instantiate the model\n",
    "model = LogisticRegression(input_dim, output_dim)\n",
    "\n",
    "print(model)"
   ]
  },
  {
   "cell_type": "markdown",
   "metadata": {
    "id": "TGLn5kqx0Nzb"
   },
   "source": [
    "Move the model to the GPU if available."
   ]
  },
  {
   "cell_type": "code",
   "execution_count": 37,
   "metadata": {
    "id": "MhOt6uzU0UBb"
   },
   "outputs": [],
   "source": [
    "# move model to device you specified above\n",
    "model = model.to(device)\n"
   ]
  },
  {
   "cell_type": "markdown",
   "metadata": {
    "id": "TdVAcmh-A27Q"
   },
   "source": [
    "Put the model in training mode."
   ]
  },
  {
   "cell_type": "code",
   "execution_count": 38,
   "metadata": {
    "id": "RfWmXXNCA6sp"
   },
   "outputs": [],
   "source": [
    "#put the model in train mode\n",
    "model = model.train()\n"
   ]
  },
  {
   "cell_type": "markdown",
   "metadata": {
    "id": "M9zCHNoVxM46"
   },
   "source": [
    "### Define a loss function\n",
    "\n",
    "Since we're dealing with multi-class classification (i.e. multiple categories), softmax is the canonical choice for the final layer activation. Softmax provides us with a distribution of values in [0, 1] that sum up to 1 over all categories.\n",
    "\n",
    "We then use the cross entropy to compute the loss.\n"
   ]
  },
  {
   "cell_type": "code",
   "execution_count": 39,
   "metadata": {
    "id": "NDUHKbO3OmWU"
   },
   "outputs": [],
   "source": [
    "#define loss function\n",
    "loss_function = torch.nn.CrossEntropyLoss()"
   ]
  },
  {
   "cell_type": "markdown",
   "metadata": {
    "id": "VcANGg6Lx-Gk"
   },
   "source": [
    "### Define the optimizer\n",
    "\n",
    "The optimizer is the learning algorithm we use. In this case, we use Stochastic Gradient Descent (SGD)."
   ]
  },
  {
   "cell_type": "code",
   "execution_count": 58,
   "metadata": {
    "id": "F_d89VCXOruD"
   },
   "outputs": [],
   "source": [
    "optimizer = torch.optim.SGD(model.parameters(), lr=lr)\n"
   ]
  },
  {
   "cell_type": "markdown",
   "metadata": {
    "id": "tHTc6mF_kXfF"
   },
   "source": [
    "## Model fitting"
   ]
  },
  {
   "cell_type": "markdown",
   "metadata": {
    "id": "tli1No3uUPU7"
   },
   "source": [
    "### Train the model\n",
    "\n",
    "Everything is set for the model to train!\n",
    "\n",
    "- In the forward pass, the prediction is made using the previously defined model on the images of the dataloader.\n",
    "- Then the loss (or error) needs to be computed by comparing the prediction to the actual label.\n",
    "- In the backward pass, the model learns and updates its weights based on the current gradient."
   ]
  },
  {
   "cell_type": "code",
   "execution_count": 41,
   "metadata": {
    "colab": {
     "base_uri": "https://localhost:8080/"
    },
    "id": "2XKR1GPOOy3b",
    "outputId": "0d231056-a080-4798-8468-9a66fc34639b"
   },
   "outputs": [
    {
     "name": "stderr",
     "output_type": "stream",
     "text": [
      "100%|██████████| 1/1 [00:13<00:00, 13.30s/it]\n"
     ]
    }
   ],
   "source": [
    "model = model.train()\n",
    "for epoch in tqdm.trange(1):\n",
    "    for i, (images, labels) in enumerate(train_dataloader):\n",
    "        # delete the gradients from last training iteration\n",
    "        optimizer.zero_grad()\n",
    "        images = images.to(device)\n",
    "        labels = labels.to(device)\n",
    "        # Forward pass: get predictions\n",
    "        y_pred = model(images)\n",
    "\n",
    "      \n",
    "        # Compute loss\n",
    "        loss = loss_function(y_pred, labels)\n",
    "        # Backward pass -> calculate gradients, update weights\n",
    "        loss.backward()\n",
    "        optimizer.step()\n",
    "    \n",
    "        "
   ]
  },
  {
   "cell_type": "code",
   "execution_count": null,
   "metadata": {
    "id": "mBeM4wsAjR2C"
   },
   "outputs": [],
   "source": []
  },
  {
   "cell_type": "markdown",
   "metadata": {
    "id": "swruGhCBUMWx"
   },
   "source": [
    "### Make a prediction\n",
    "\n",
    "Now that our model is trained, we can make a new prediction by inputting an unseen image of the test dataset.\n"
   ]
  },
  {
   "cell_type": "code",
   "execution_count": 56,
   "metadata": {
    "colab": {
     "base_uri": "https://localhost:8080/"
    },
    "id": "uzgzX4IfCoqJ",
    "outputId": "e2b615b8-3ac3-482c-ea07-8c9177f689f4"
   },
   "outputs": [
    {
     "name": "stdout",
     "output_type": "stream",
     "text": [
      "predicted label:  tensor(1, device='cuda:0')\n",
      "given label:  tensor(1)\n"
     ]
    }
   ],
   "source": [
    "#get a random element of the test dataloader\n",
    "element =  iter(test_dataloader).next()\n",
    "#print(element)\n",
    "#set model in eval mode\n",
    "model = model.eval()\n",
    "\n",
    "# no automatic gradient update needed in evaluation\n",
    "with torch.no_grad():\n",
    "    #make a prediction\n",
    "    y_pred = model(element[0][0].to(device))\n",
    "\n",
    "# print predicted label and given label\n",
    "print(\"predicted label: \", y_pred.argmax())\n",
    "print(\"given label: \", element[1][0])"
   ]
  },
  {
   "cell_type": "markdown",
   "metadata": {
    "id": "n2sGY16whRfa"
   },
   "source": [
    "### Track and plot the training and validation error and accuracy"
   ]
  },
  {
   "cell_type": "markdown",
   "metadata": {
    "id": "K9u7r2IoJ-UQ"
   },
   "source": [
    "What we have seen so far is the basic principle of training a model and making a prediction. But one might be interested to see more about the training process, for instance how the training error evolves with time and how the accuracy (hopefully) increases while training the model longer.\n",
    "\n",
    "For this step, we are going to **refine the training process** and **add some important information saving for plotting**."
   ]
  },
  {
   "cell_type": "code",
   "execution_count": 59,
   "metadata": {
    "id": "4BYkT-UUZ7C7"
   },
   "outputs": [],
   "source": [
    "#write a function that calculates the accuracy\n",
    "def accuracy(correct, total): \n",
    "    \"\"\"\n",
    "    function to calculate the accuracy given the\n",
    "        correct: number of correctly classified samples\n",
    "        total: total number of samples\n",
    "    returns the ratio\n",
    "    \"\"\"\n",
    "    \n",
    "    return correct/total"
   ]
  },
  {
   "cell_type": "code",
   "execution_count": 60,
   "metadata": {
    "colab": {
     "base_uri": "https://localhost:8080/"
    },
    "id": "px-43RcLD9In",
    "outputId": "7529979f-7b27-42df-9373-66e9293ea25f"
   },
   "outputs": [
    {
     "name": "stdout",
     "output_type": "stream",
     "text": [
      "6000\n"
     ]
    }
   ],
   "source": [
    "print(len(val_dataloader.dataset))"
   ]
  },
  {
   "cell_type": "code",
   "execution_count": 61,
   "metadata": {
    "id": "FmVlH408Tfkn"
   },
   "outputs": [],
   "source": [
    "#refine the training function from above\n",
    "# it should contain:\n",
    "# - saving of losses\n",
    "# - calculation of accuracy\n",
    "# - returning the mean loss and accuracy\n",
    "\n",
    "def train_func(dataloader, model, loss_func, optimizer):\n",
    "    model = model.train()\n",
    "    size = len(dataloader.dataset)\n",
    "    num_batches = len(dataloader)\n",
    "    loss_sum, correct = 0, 0\n",
    "    for batch, (images, labels) in enumerate(dataloader):\n",
    "        optimizer.zero_grad()\n",
    "           \n",
    "        images = images.to(device)\n",
    "        labels = labels.to(device)\n",
    "        pred = model(images)\n",
    "\n",
    "        loss = loss_func(pred, labels)\n",
    "        loss_sum += loss.item()  \n",
    "\n",
    "        pred = pred.cpu()\n",
    "        labels = labels.cpu()\n",
    "        correct += np.sum(pred.argmax(dim=1).numpy() == labels.numpy())\n",
    "\n",
    "        loss.backward()\n",
    "        optimizer.step()\n",
    "\n",
    "    loss_sum /= num_batches\n",
    "    correct /= size\n",
    "    return loss_sum, correct"
   ]
  },
  {
   "cell_type": "code",
   "execution_count": 62,
   "metadata": {
    "id": "kJ1X0VTHZ-lS"
   },
   "outputs": [],
   "source": [
    "# write a validation function that calculates the loss and accuracy on the validation set\n",
    "def validation_func(dataloader, model, loss_func):\n",
    "    size = len(dataloader.dataset)\n",
    "    num_batches = len(dataloader)\n",
    "    loss_sum, correct = 0, 0\n",
    "    model = model.eval()\n",
    "    with torch.no_grad():\n",
    "        for images, labels in dataloader:\n",
    "            images = images.to(device)\n",
    "            labels = labels.to(device)\n",
    "            pred = model(images)\n",
    "            loss_sum += loss_func(pred, labels).item()\n",
    "            pred = pred.cpu()\n",
    "            labels = labels.cpu()\n",
    "            correct += np.sum(pred.argmax(dim=1).numpy() == labels.numpy())\n",
    "\n",
    "    loss_sum /= num_batches\n",
    "    correct /= size\n",
    "    return loss_sum, correct\n",
    "\n",
    "\n"
   ]
  },
  {
   "cell_type": "code",
   "execution_count": 63,
   "metadata": {
    "id": "dVh-o4vJVRLh"
   },
   "outputs": [],
   "source": [
    "\n",
    "# write a run_training function that \n",
    "# - calls the train and validate functions for each epoch\n",
    "# - saves the train_losses, val_losses, train_accs, val_accs as arrays for each epoch\n",
    "def run_training(epochs, model, loss_func, optimizer):\n",
    "  loss_train_list = []\n",
    "  accuracy_train_list = []\n",
    "  loss_val_list = []\n",
    "  accuracy_val_list = []\n",
    "  for t in tqdm.tqdm(range(epochs)):\n",
    "      loss_train, accuracy_train = train_func(train_dataloader, model, loss_func, optimizer)  #here loss and accuracy are calc while training one epoch\n",
    "      #loss_train, accuracy_train = validation_func(train_dataloader, model, loss_func) #here loss and accuracy are calc at the end of one training epoch\n",
    "      loss_val, accuracy_val = validation_func(test_dataloader, model, loss_func)\n",
    "\n",
    "      loss_train_list.append(loss_train)\n",
    "      accuracy_train_list.append(accuracy_train)\n",
    "      loss_val_list.append(loss_val)\n",
    "      accuracy_val_list.append(accuracy_val)\n",
    "      \n",
    "  return loss_train_list, accuracy_train_list, loss_val_list, accuracy_val_list\n"
   ]
  },
  {
   "cell_type": "code",
   "execution_count": 64,
   "metadata": {
    "colab": {
     "base_uri": "https://localhost:8080/"
    },
    "id": "vmnXzMswyysS",
    "outputId": "8dd2fb65-1748-47ba-a549-7ed554341303"
   },
   "outputs": [
    {
     "name": "stdout",
     "output_type": "stream",
     "text": [
      "LogisticRegression(\n",
      "  (linear): Linear(in_features=784, out_features=10, bias=True)\n",
      ")\n"
     ]
    },
    {
     "name": "stderr",
     "output_type": "stream",
     "text": [
      "100%|██████████| 10/10 [02:35<00:00, 15.55s/it]\n"
     ]
    }
   ],
   "source": [
    "#call the run_training function and run it for 10 epochs.\n",
    "model = LogisticRegression(input_dim, output_dim)\n",
    "loss_function = torch.nn.CrossEntropyLoss()\n",
    "optimizer = torch.optim.SGD(model.parameters(), lr=lr)\n",
    "print(model)\n",
    "\n",
    "#move model to device you specified above\n",
    "model = model.to(device)\n",
    "\n",
    "\n",
    "\n",
    "num_epochs = 10\n",
    "loss_train_list, accuracy_train_list, loss_val_list, accuracy_val_list = run_training(num_epochs, model, loss_function, optimizer)"
   ]
  },
  {
   "cell_type": "code",
   "execution_count": 65,
   "metadata": {
    "id": "0Y9OzZd3fFeE"
   },
   "outputs": [],
   "source": [
    "#write a plot function\n",
    "def plot_func(x_label,y_label, data):\n",
    "  g = sn.relplot(x=x_label, y=y_label, kind=\"line\", hue=\"Legende\", data=data)\n",
    "  g.figure.autofmt_xdate()\n"
   ]
  },
  {
   "cell_type": "code",
   "execution_count": 66,
   "metadata": {
    "colab": {
     "base_uri": "https://localhost:8080/",
     "height": 341
    },
    "id": "oElpprFbdh6r",
    "outputId": "e7f43e90-7b97-4d62-f4f7-09f6c573e95b"
   },
   "outputs": [
    {
     "data": {
      "image/png": "[encoded data removed]",
      "text/plain": [
       "<Figure size 443.75x360 with 1 Axes>"
      ]
     },
     "metadata": {
      "needs_background": "light"
     },
     "output_type": "display_data"
    }
   ],
   "source": [
    "#plot losses\n",
    "data_preproc = pd.DataFrame({\n",
    "    'epochs': np.arange(len(loss_train_list)), \n",
    "    'train_loss': loss_train_list,\n",
    "    'val_loss': loss_val_list})\n",
    "df = pd.melt(data_preproc, ['epochs'], value_name=\"loss\", var_name=\"Legende\")\n",
    "plot_func(\"epochs\",\"loss\", df)"
   ]
  },
  {
   "cell_type": "code",
   "execution_count": 72,
   "metadata": {
    "colab": {
     "base_uri": "https://localhost:8080/",
     "height": 341
    },
    "id": "Lakhvy0qrSsi",
    "outputId": "3a06f0ad-f09e-4e69-abf2-b611f63e5061"
   },
   "outputs": [
    {
     "data": {
      "image/png": "[encoded data removed]",
      "text/plain": [
       "<Figure size 441.5x360 with 1 Axes>"
      ]
     },
     "metadata": {
      "needs_background": "light"
     },
     "output_type": "display_data"
    }
   ],
   "source": [
    "#plot accuracies\n",
    "data_preproc = pd.DataFrame({\n",
    "    'epochs': np.arange(len(accuracy_train_list)), \n",
    "    'train_acc': accuracy_train_list,\n",
    "    'val_acc': accuracy_val_list})\n",
    "df = pd.melt(data_preproc, ['epochs'], value_name=\"accuracy\", var_name=\"Legende\")\n",
    "plot_func(\"epochs\", \"accuracy\", df)"
   ]
  },
  {
   "cell_type": "markdown",
   "metadata": {
    "id": "Vrq7fAe7_xX0"
   },
   "source": [
    "### Plot the confusion matrix\n"
   ]
  },
  {
   "cell_type": "code",
   "execution_count": 68,
   "metadata": {
    "id": "5MDQqjiXAA1Z"
   },
   "outputs": [],
   "source": [
    "#write a function to calculate the confusion values\n",
    "def calc_confusion(dataloader, model):\n",
    "  matrix = np.zeros((10,10))\n",
    "  with torch.no_grad():\n",
    "    for images, labels in dataloader:\n",
    "      images = images.to(device)\n",
    "      labels = labels.to(device)\n",
    "      pred = model(images)\n",
    "\n",
    "      pred = pred.cpu()\n",
    "      labels = labels.cpu()\n",
    "      labels = labels.numpy()\n",
    "      for indx, prediction in enumerate(pred.argmax(dim=1).numpy()):\n",
    "        matrix[labels[indx], prediction] += 1\n",
    "\n",
    "    for indx, column in enumerate(matrix): #Normalize\n",
    "        column /= column.sum()\n",
    "        \n",
    "    return matrix"
   ]
  },
  {
   "cell_type": "code",
   "execution_count": 69,
   "metadata": {
    "id": "KQySw9eX3GgT"
   },
   "outputs": [],
   "source": [
    "#normalize and plot the confusion matrix\n",
    "matrix = calc_confusion(val_dataloader, model)\n"
   ]
  },
  {
   "cell_type": "code",
   "execution_count": 70,
   "metadata": {
    "colab": {
     "base_uri": "https://localhost:8080/",
     "height": 606
    },
    "id": "V6cLFiPa6daq",
    "outputId": "e7b1398d-cbba-41f3-c26f-9e366d0cbc57"
   },
   "outputs": [
    {
     "data": {
      "image/png": "[encoded data removed]",
      "text/plain": [
       "<Figure size 720x720 with 2 Axes>"
      ]
     },
     "metadata": {
      "needs_background": "light"
     },
     "output_type": "display_data"
    }
   ],
   "source": [
    "fig, ax = plt.subplots(figsize=(10,10))\n",
    "ax = sn.heatmap(matrix ,annot=True,linewidths=.5, fmt=\".2f\")\n",
    "plt.xlabel(\"Predicted Label\") \n",
    "plt.ylabel(\"True Label\")\n",
    "plt.show()\n"
   ]
  },
  {
   "cell_type": "code",
   "execution_count": 71,
   "metadata": {
    "colab": {
     "base_uri": "https://localhost:8080/"
    },
    "id": "mqIEODPUyys5",
    "outputId": "1979c736-d3e1-49a9-8ef0-ae485858bf93"
   },
   "outputs": [
    {
     "name": "stdout",
     "output_type": "stream",
     "text": [
      "digit: 0, most confused with: 6\n",
      "digit: 1, most confused with: 8\n",
      "digit: 2, most confused with: 8\n",
      "digit: 3, most confused with: 5\n",
      "digit: 4, most confused with: 9\n",
      "digit: 5, most confused with: 3\n",
      "digit: 6, most confused with: 5\n",
      "digit: 7, most confused with: 9\n",
      "digit: 8, most confused with: 3\n",
      "digit: 9, most confused with: 7\n"
     ]
    }
   ],
   "source": [
    "for indx, column in enumerate(matrix):\n",
    "  print(f\"digit: {indx}, most confused with: {np.argwhere(np.partition(column, -2)[-2]==column)[0][0]}\")\n"
   ]
  },
  {
   "cell_type": "code",
   "execution_count": null,
   "metadata": {
    "id": "VvDQm9tw92R4"
   },
   "outputs": [],
   "source": []
  }
 ],
 "metadata": {
  "accelerator": "GPU",
  "colab": {
   "collapsed_sections": [],
   "name": "Plaehn_Sharma_Hienzsch_Fuelle_EX1.ipynb",
   "provenance": []
  },
  "interpreter": {
   "hash": "55afd582f26a0ea093c7e935c8b892d8066f76338b0d849fee432a1ca460624e"
  },
  "kernelspec": {
   "display_name": "Python 3",
   "language": "python",
   "name": "python3"
  },
  "language_info": {
   "codemirror_mode": {
    "name": "ipython",
    "version": 3
   },
   "file_extension": ".py",
   "mimetype": "text/x-python",
   "name": "python",
   "nbconvert_exporter": "python",
   "pygments_lexer": "ipython3",
   "version": "3.7.4"
  },
  "nteract": {
   "version": "0.15.0"
  },
  "widgets": {
   "application/vnd.jupyter.widget-state+json": {
    "00fc695366954d2982c0288a1a56d7da": {
     "model_module": "@jupyter-widgets/base",
     "model_module_version": "1.2.0",
     "model_name": "LayoutModel",
     "state": {
      "_model_module": "@jupyter-widgets/base",
      "_model_module_version": "1.2.0",
      "_model_name": "LayoutModel",
      "_view_count": null,
      "_view_module": "@jupyter-widgets/base",
      "_view_module_version": "1.2.0",
      "_view_name": "LayoutView",
      "align_content": null,
      "align_items": null,
      "align_self": null,
      "border": null,
      "bottom": null,
      "display": null,
      "flex": null,
      "flex_flow": null,
      "grid_area": null,
      "grid_auto_columns": null,
      "grid_auto_flow": null,
      "grid_auto_rows": null,
      "grid_column": null,
      "grid_gap": null,
      "grid_row": null,
      "grid_template_areas": null,
      "grid_template_columns": null,
      "grid_template_rows": null,
      "height": null,
      "justify_content": null,
      "justify_items": null,
      "left": null,
      "margin": null,
      "max_height": null,
      "max_width": null,
      "min_height": null,
      "min_width": null,
      "object_fit": null,
      "object_position": null,
      "order": null,
      "overflow": null,
      "overflow_x": null,
      "overflow_y": null,
      "padding": null,
      "right": null,
      "top": null,
      "visibility": null,
      "width": null
     }
    },
    "02fc98244239489297f6c0014dcb8e0b": {
     "model_module": "@jupyter-widgets/controls",
     "model_module_version": "1.5.0",
     "model_name": "HBoxModel",
     "state": {
      "_dom_classes": [],
      "_model_module": "@jupyter-widgets/controls",
      "_model_module_version": "1.5.0",
      "_model_name": "HBoxModel",
      "_view_count": null,
      "_view_module": "@jupyter-widgets/controls",
      "_view_module_version": "1.5.0",
      "_view_name": "HBoxView",
      "box_style": "",
      "children": [
       "IPY_MODEL_7a165f42d08c477ba4d60f2c563838ba",
       "IPY_MODEL_e1077407eb15472d96d080216e5226c1",
       "IPY_MODEL_dc871215ba1a42a49a6d5cf39c101172"
      ],
      "layout": "IPY_MODEL_36907617b9e544e3b4d0a9e3b8f6abe0"
     }
    },
    "0808bcee4f0c4c039ac00660dae1da8d": {
     "model_module": "@jupyter-widgets/controls",
     "model_module_version": "1.5.0",
     "model_name": "ProgressStyleModel",
     "state": {
      "_model_module": "@jupyter-widgets/controls",
      "_model_module_version": "1.5.0",
      "_model_name": "ProgressStyleModel",
      "_view_count": null,
      "_view_module": "@jupyter-widgets/base",
      "_view_module_version": "1.2.0",
      "_view_name": "StyleView",
      "bar_color": null,
      "description_width": ""
     }
    },
    "10c9c50d03ee45f5aaf5a8c93e074485": {
     "model_module": "@jupyter-widgets/controls",
     "model_module_version": "1.5.0",
     "model_name": "FloatProgressModel",
     "state": {
      "_dom_classes": [],
      "_model_module": "@jupyter-widgets/controls",
      "_model_module_version": "1.5.0",
      "_model_name": "FloatProgressModel",
      "_view_count": null,
      "_view_module": "@jupyter-widgets/controls",
      "_view_module_version": "1.5.0",
      "_view_name": "ProgressView",
      "bar_style": "success",
      "description": "",
      "description_tooltip": null,
      "layout": "IPY_MODEL_437ed9a5fadb4de18921390840b18962",
      "max": 4542,
      "min": 0,
      "orientation": "horizontal",
      "style": "IPY_MODEL_faff48ec28234fedb65626aa9416c6cd",
      "value": 4542
     }
    },
    "125939147eef42ec94717c32d307080b": {
     "model_module": "@jupyter-widgets/base",
     "model_module_version": "1.2.0",
     "model_name": "LayoutModel",
     "state": {
      "_model_module": "@jupyter-widgets/base",
      "_model_module_version": "1.2.0",
      "_model_name": "LayoutModel",
      "_view_count": null,
      "_view_module": "@jupyter-widgets/base",
      "_view_module_version": "1.2.0",
      "_view_name": "LayoutView",
      "align_content": null,
      "align_items": null,
      "align_self": null,
      "border": null,
      "bottom": null,
      "display": null,
      "flex": null,
      "flex_flow": null,
      "grid_area": null,
      "grid_auto_columns": null,
      "grid_auto_flow": null,
      "grid_auto_rows": null,
      "grid_column": null,
      "grid_gap": null,
      "grid_row": null,
      "grid_template_areas": null,
      "grid_template_columns": null,
      "grid_template_rows": null,
      "height": null,
      "justify_content": null,
      "justify_items": null,
      "left": null,
      "margin": null,
      "max_height": null,
      "max_width": null,
      "min_height": null,
      "min_width": null,
      "object_fit": null,
      "object_position": null,
      "order": null,
      "overflow": null,
      "overflow_x": null,
      "overflow_y": null,
      "padding": null,
      "right": null,
      "top": null,
      "visibility": null,
      "width": null
     }
    },
    "180f06294ff8485dbceec9b06c6e2a01": {
     "model_module": "@jupyter-widgets/controls",
     "model_module_version": "1.5.0",
     "model_name": "DescriptionStyleModel",
     "state": {
      "_model_module": "@jupyter-widgets/controls",
      "_model_module_version": "1.5.0",
      "_model_name": "DescriptionStyleModel",
      "_view_count": null,
      "_view_module": "@jupyter-widgets/base",
      "_view_module_version": "1.2.0",
      "_view_name": "StyleView",
      "description_width": ""
     }
    },
    "1b44e8289a7446ad8afb1277f94e2f3c": {
     "model_module": "@jupyter-widgets/controls",
     "model_module_version": "1.5.0",
     "model_name": "HTMLModel",
     "state": {
      "_dom_classes": [],
      "_model_module": "@jupyter-widgets/controls",
      "_model_module_version": "1.5.0",
      "_model_name": "HTMLModel",
      "_view_count": null,
      "_view_module": "@jupyter-widgets/controls",
      "_view_module_version": "1.5.0",
      "_view_name": "HTMLView",
      "description": "",
      "description_tooltip": null,
      "layout": "IPY_MODEL_d7e4d168d6d442969017296d7b4159ba",
      "placeholder": "​",
      "style": "IPY_MODEL_7730b07b33a6429b99c3e226314ee2d2",
      "value": " 5120/? [00:00&lt;00:00, 120903.26it/s]"
     }
    },
    "2e4a9bbde87047ff84a02ddf45cb26fd": {
     "model_module": "@jupyter-widgets/controls",
     "model_module_version": "1.5.0",
     "model_name": "HTMLModel",
     "state": {
      "_dom_classes": [],
      "_model_module": "@jupyter-widgets/controls",
      "_model_module_version": "1.5.0",
      "_model_name": "HTMLModel",
      "_view_count": null,
      "_view_module": "@jupyter-widgets/controls",
      "_view_module_version": "1.5.0",
      "_view_name": "HTMLView",
      "description": "",
      "description_tooltip": null,
      "layout": "IPY_MODEL_00fc695366954d2982c0288a1a56d7da",
      "placeholder": "​",
      "style": "IPY_MODEL_75d5af6bed554a15b67df7f58d6cefac",
      "value": ""
     }
    },
    "36907617b9e544e3b4d0a9e3b8f6abe0": {
     "model_module": "@jupyter-widgets/base",
     "model_module_version": "1.2.0",
     "model_name": "LayoutModel",
     "state": {
      "_model_module": "@jupyter-widgets/base",
      "_model_module_version": "1.2.0",
      "_model_name": "LayoutModel",
      "_view_count": null,
      "_view_module": "@jupyter-widgets/base",
      "_view_module_version": "1.2.0",
      "_view_name": "LayoutView",
      "align_content": null,
      "align_items": null,
      "align_self": null,
      "border": null,
      "bottom": null,
      "display": null,
      "flex": null,
      "flex_flow": null,
      "grid_area": null,
      "grid_auto_columns": null,
      "grid_auto_flow": null,
      "grid_auto_rows": null,
      "grid_column": null,
      "grid_gap": null,
      "grid_row": null,
      "grid_template_areas": null,
      "grid_template_columns": null,
      "grid_template_rows": null,
      "height": null,
      "justify_content": null,
      "justify_items": null,
      "left": null,
      "margin": null,
      "max_height": null,
      "max_width": null,
      "min_height": null,
      "min_width": null,
      "object_fit": null,
      "object_position": null,
      "order": null,
      "overflow": null,
      "overflow_x": null,
      "overflow_y": null,
      "padding": null,
      "right": null,
      "top": null,
      "visibility": null,
      "width": null
     }
    },
    "3991f9ceea354122a4393bc9b53f0104": {
     "model_module": "@jupyter-widgets/controls",
     "model_module_version": "1.5.0",
     "model_name": "FloatProgressModel",
     "state": {
      "_dom_classes": [],
      "_model_module": "@jupyter-widgets/controls",
      "_model_module_version": "1.5.0",
      "_model_name": "FloatProgressModel",
      "_view_count": null,
      "_view_module": "@jupyter-widgets/controls",
      "_view_module_version": "1.5.0",
      "_view_name": "ProgressView",
      "bar_style": "success",
      "description": "",
      "description_tooltip": null,
      "layout": "IPY_MODEL_70c9ea50c507463f9a4d737567dc3bca",
      "max": 9912422,
      "min": 0,
      "orientation": "horizontal",
      "style": "IPY_MODEL_4f05b7453cf044919b759d2a1a217c70",
      "value": 9912422
     }
    },
    "3a3149c914f14eb7ae10c961baf8e64e": {
     "model_module": "@jupyter-widgets/controls",
     "model_module_version": "1.5.0",
     "model_name": "DescriptionStyleModel",
     "state": {
      "_model_module": "@jupyter-widgets/controls",
      "_model_module_version": "1.5.0",
      "_model_name": "DescriptionStyleModel",
      "_view_count": null,
      "_view_module": "@jupyter-widgets/base",
      "_view_module_version": "1.2.0",
      "_view_name": "StyleView",
      "description_width": ""
     }
    },
    "4124de003dd24a8f8c601d2e8ff53554": {
     "model_module": "@jupyter-widgets/controls",
     "model_module_version": "1.5.0",
     "model_name": "DescriptionStyleModel",
     "state": {
      "_model_module": "@jupyter-widgets/controls",
      "_model_module_version": "1.5.0",
      "_model_name": "DescriptionStyleModel",
      "_view_count": null,
      "_view_module": "@jupyter-widgets/base",
      "_view_module_version": "1.2.0",
      "_view_name": "StyleView",
      "description_width": ""
     }
    },
    "437ed9a5fadb4de18921390840b18962": {
     "model_module": "@jupyter-widgets/base",
     "model_module_version": "1.2.0",
     "model_name": "LayoutModel",
     "state": {
      "_model_module": "@jupyter-widgets/base",
      "_model_module_version": "1.2.0",
      "_model_name": "LayoutModel",
      "_view_count": null,
      "_view_module": "@jupyter-widgets/base",
      "_view_module_version": "1.2.0",
      "_view_name": "LayoutView",
      "align_content": null,
      "align_items": null,
      "align_self": null,
      "border": null,
      "bottom": null,
      "display": null,
      "flex": null,
      "flex_flow": null,
      "grid_area": null,
      "grid_auto_columns": null,
      "grid_auto_flow": null,
      "grid_auto_rows": null,
      "grid_column": null,
      "grid_gap": null,
      "grid_row": null,
      "grid_template_areas": null,
      "grid_template_columns": null,
      "grid_template_rows": null,
      "height": null,
      "justify_content": null,
      "justify_items": null,
      "left": null,
      "margin": null,
      "max_height": null,
      "max_width": null,
      "min_height": null,
      "min_width": null,
      "object_fit": null,
      "object_position": null,
      "order": null,
      "overflow": null,
      "overflow_x": null,
      "overflow_y": null,
      "padding": null,
      "right": null,
      "top": null,
      "visibility": null,
      "width": null
     }
    },
    "4380bdbf75bc4b798b2386530c9229f9": {
     "model_module": "@jupyter-widgets/base",
     "model_module_version": "1.2.0",
     "model_name": "LayoutModel",
     "state": {
      "_model_module": "@jupyter-widgets/base",
      "_model_module_version": "1.2.0",
      "_model_name": "LayoutModel",
      "_view_count": null,
      "_view_module": "@jupyter-widgets/base",
      "_view_module_version": "1.2.0",
      "_view_name": "LayoutView",
      "align_content": null,
      "align_items": null,
      "align_self": null,
      "border": null,
      "bottom": null,
      "display": null,
      "flex": null,
      "flex_flow": null,
      "grid_area": null,
      "grid_auto_columns": null,
      "grid_auto_flow": null,
      "grid_auto_rows": null,
      "grid_column": null,
      "grid_gap": null,
      "grid_row": null,
      "grid_template_areas": null,
      "grid_template_columns": null,
      "grid_template_rows": null,
      "height": null,
      "justify_content": null,
      "justify_items": null,
      "left": null,
      "margin": null,
      "max_height": null,
      "max_width": null,
      "min_height": null,
      "min_width": null,
      "object_fit": null,
      "object_position": null,
      "order": null,
      "overflow": null,
      "overflow_x": null,
      "overflow_y": null,
      "padding": null,
      "right": null,
      "top": null,
      "visibility": null,
      "width": null
     }
    },
    "4ea86072d63846f5b920f2714f5d7e79": {
     "model_module": "@jupyter-widgets/controls",
     "model_module_version": "1.5.0",
     "model_name": "HBoxModel",
     "state": {
      "_dom_classes": [],
      "_model_module": "@jupyter-widgets/controls",
      "_model_module_version": "1.5.0",
      "_model_name": "HBoxModel",
      "_view_count": null,
      "_view_module": "@jupyter-widgets/controls",
      "_view_module_version": "1.5.0",
      "_view_name": "HBoxView",
      "box_style": "",
      "children": [
       "IPY_MODEL_7af36dedd21d43d8a80d10c86cb32d1e",
       "IPY_MODEL_4f18f0223fd9411eb4be0e8f4b141831",
       "IPY_MODEL_7f871417ff4a4a528fe9b58bbcfdabd3"
      ],
      "layout": "IPY_MODEL_125939147eef42ec94717c32d307080b"
     }
    },
    "4f05b7453cf044919b759d2a1a217c70": {
     "model_module": "@jupyter-widgets/controls",
     "model_module_version": "1.5.0",
     "model_name": "ProgressStyleModel",
     "state": {
      "_model_module": "@jupyter-widgets/controls",
      "_model_module_version": "1.5.0",
      "_model_name": "ProgressStyleModel",
      "_view_count": null,
      "_view_module": "@jupyter-widgets/base",
      "_view_module_version": "1.2.0",
      "_view_name": "StyleView",
      "bar_color": null,
      "description_width": ""
     }
    },
    "4f18f0223fd9411eb4be0e8f4b141831": {
     "model_module": "@jupyter-widgets/controls",
     "model_module_version": "1.5.0",
     "model_name": "FloatProgressModel",
     "state": {
      "_dom_classes": [],
      "_model_module": "@jupyter-widgets/controls",
      "_model_module_version": "1.5.0",
      "_model_name": "FloatProgressModel",
      "_view_count": null,
      "_view_module": "@jupyter-widgets/controls",
      "_view_module_version": "1.5.0",
      "_view_name": "ProgressView",
      "bar_style": "success",
      "description": "",
      "description_tooltip": null,
      "layout": "IPY_MODEL_a96fad193fcf40beb74cddbacbdf250a",
      "max": 1648877,
      "min": 0,
      "orientation": "horizontal",
      "style": "IPY_MODEL_6fd765d46a3c4914a9acc3c04f00226b",
      "value": 1648877
     }
    },
    "6c59a31393344b87b6d76d6be94c5e46": {
     "model_module": "@jupyter-widgets/base",
     "model_module_version": "1.2.0",
     "model_name": "LayoutModel",
     "state": {
      "_model_module": "@jupyter-widgets/base",
      "_model_module_version": "1.2.0",
      "_model_name": "LayoutModel",
      "_view_count": null,
      "_view_module": "@jupyter-widgets/base",
      "_view_module_version": "1.2.0",
      "_view_name": "LayoutView",
      "align_content": null,
      "align_items": null,
      "align_self": null,
      "border": null,
      "bottom": null,
      "display": null,
      "flex": null,
      "flex_flow": null,
      "grid_area": null,
      "grid_auto_columns": null,
      "grid_auto_flow": null,
      "grid_auto_rows": null,
      "grid_column": null,
      "grid_gap": null,
      "grid_row": null,
      "grid_template_areas": null,
      "grid_template_columns": null,
      "grid_template_rows": null,
      "height": null,
      "justify_content": null,
      "justify_items": null,
      "left": null,
      "margin": null,
      "max_height": null,
      "max_width": null,
      "min_height": null,
      "min_width": null,
      "object_fit": null,
      "object_position": null,
      "order": null,
      "overflow": null,
      "overflow_x": null,
      "overflow_y": null,
      "padding": null,
      "right": null,
      "top": null,
      "visibility": null,
      "width": null
     }
    },
    "6fd765d46a3c4914a9acc3c04f00226b": {
     "model_module": "@jupyter-widgets/controls",
     "model_module_version": "1.5.0",
     "model_name": "ProgressStyleModel",
     "state": {
      "_model_module": "@jupyter-widgets/controls",
      "_model_module_version": "1.5.0",
      "_model_name": "ProgressStyleModel",
      "_view_count": null,
      "_view_module": "@jupyter-widgets/base",
      "_view_module_version": "1.2.0",
      "_view_name": "StyleView",
      "bar_color": null,
      "description_width": ""
     }
    },
    "70c9ea50c507463f9a4d737567dc3bca": {
     "model_module": "@jupyter-widgets/base",
     "model_module_version": "1.2.0",
     "model_name": "LayoutModel",
     "state": {
      "_model_module": "@jupyter-widgets/base",
      "_model_module_version": "1.2.0",
      "_model_name": "LayoutModel",
      "_view_count": null,
      "_view_module": "@jupyter-widgets/base",
      "_view_module_version": "1.2.0",
      "_view_name": "LayoutView",
      "align_content": null,
      "align_items": null,
      "align_self": null,
      "border": null,
      "bottom": null,
      "display": null,
      "flex": null,
      "flex_flow": null,
      "grid_area": null,
      "grid_auto_columns": null,
      "grid_auto_flow": null,
      "grid_auto_rows": null,
      "grid_column": null,
      "grid_gap": null,
      "grid_row": null,
      "grid_template_areas": null,
      "grid_template_columns": null,
      "grid_template_rows": null,
      "height": null,
      "justify_content": null,
      "justify_items": null,
      "left": null,
      "margin": null,
      "max_height": null,
      "max_width": null,
      "min_height": null,
      "min_width": null,
      "object_fit": null,
      "object_position": null,
      "order": null,
      "overflow": null,
      "overflow_x": null,
      "overflow_y": null,
      "padding": null,
      "right": null,
      "top": null,
      "visibility": null,
      "width": null
     }
    },
    "75d5af6bed554a15b67df7f58d6cefac": {
     "model_module": "@jupyter-widgets/controls",
     "model_module_version": "1.5.0",
     "model_name": "DescriptionStyleModel",
     "state": {
      "_model_module": "@jupyter-widgets/controls",
      "_model_module_version": "1.5.0",
      "_model_name": "DescriptionStyleModel",
      "_view_count": null,
      "_view_module": "@jupyter-widgets/base",
      "_view_module_version": "1.2.0",
      "_view_name": "StyleView",
      "description_width": ""
     }
    },
    "7730b07b33a6429b99c3e226314ee2d2": {
     "model_module": "@jupyter-widgets/controls",
     "model_module_version": "1.5.0",
     "model_name": "DescriptionStyleModel",
     "state": {
      "_model_module": "@jupyter-widgets/controls",
      "_model_module_version": "1.5.0",
      "_model_name": "DescriptionStyleModel",
      "_view_count": null,
      "_view_module": "@jupyter-widgets/base",
      "_view_module_version": "1.2.0",
      "_view_name": "StyleView",
      "description_width": ""
     }
    },
    "7a165f42d08c477ba4d60f2c563838ba": {
     "model_module": "@jupyter-widgets/controls",
     "model_module_version": "1.5.0",
     "model_name": "HTMLModel",
     "state": {
      "_dom_classes": [],
      "_model_module": "@jupyter-widgets/controls",
      "_model_module_version": "1.5.0",
      "_model_name": "HTMLModel",
      "_view_count": null,
      "_view_module": "@jupyter-widgets/controls",
      "_view_module_version": "1.5.0",
      "_view_name": "HTMLView",
      "description": "",
      "description_tooltip": null,
      "layout": "IPY_MODEL_af4d34f6188646ee95c43e18f9f16007",
      "placeholder": "​",
      "style": "IPY_MODEL_d18bfb5f79154bdf884aa10f3c3f2a98",
      "value": ""
     }
    },
    "7af36dedd21d43d8a80d10c86cb32d1e": {
     "model_module": "@jupyter-widgets/controls",
     "model_module_version": "1.5.0",
     "model_name": "HTMLModel",
     "state": {
      "_dom_classes": [],
      "_model_module": "@jupyter-widgets/controls",
      "_model_module_version": "1.5.0",
      "_model_name": "HTMLModel",
      "_view_count": null,
      "_view_module": "@jupyter-widgets/controls",
      "_view_module_version": "1.5.0",
      "_view_name": "HTMLView",
      "description": "",
      "description_tooltip": null,
      "layout": "IPY_MODEL_ae7081b76d7646029fbbcb24f25d3b00",
      "placeholder": "​",
      "style": "IPY_MODEL_b9551fa6180846e18b0b21135269f82c",
      "value": ""
     }
    },
    "7f871417ff4a4a528fe9b58bbcfdabd3": {
     "model_module": "@jupyter-widgets/controls",
     "model_module_version": "1.5.0",
     "model_name": "HTMLModel",
     "state": {
      "_dom_classes": [],
      "_model_module": "@jupyter-widgets/controls",
      "_model_module_version": "1.5.0",
      "_model_name": "HTMLModel",
      "_view_count": null,
      "_view_module": "@jupyter-widgets/controls",
      "_view_module_version": "1.5.0",
      "_view_name": "HTMLView",
      "description": "",
      "description_tooltip": null,
      "layout": "IPY_MODEL_b0cbc9157a4341b48b6d1e8138fa33fd",
      "placeholder": "​",
      "style": "IPY_MODEL_4124de003dd24a8f8c601d2e8ff53554",
      "value": " 1649664/? [00:00&lt;00:00, 17443019.49it/s]"
     }
    },
    "85861a10ee3c4a7d8bfc22dac5906547": {
     "model_module": "@jupyter-widgets/controls",
     "model_module_version": "1.5.0",
     "model_name": "HBoxModel",
     "state": {
      "_dom_classes": [],
      "_model_module": "@jupyter-widgets/controls",
      "_model_module_version": "1.5.0",
      "_model_name": "HBoxModel",
      "_view_count": null,
      "_view_module": "@jupyter-widgets/controls",
      "_view_module_version": "1.5.0",
      "_view_name": "HBoxView",
      "box_style": "",
      "children": [
       "IPY_MODEL_9c9ca0401f8a497d8b7477aea56dfc25",
       "IPY_MODEL_10c9c50d03ee45f5aaf5a8c93e074485",
       "IPY_MODEL_1b44e8289a7446ad8afb1277f94e2f3c"
      ],
      "layout": "IPY_MODEL_c582b4bec30b4ac5af09e5263bf59aa1"
     }
    },
    "94667618c7524142b443bdd481012bb7": {
     "model_module": "@jupyter-widgets/controls",
     "model_module_version": "1.5.0",
     "model_name": "HBoxModel",
     "state": {
      "_dom_classes": [],
      "_model_module": "@jupyter-widgets/controls",
      "_model_module_version": "1.5.0",
      "_model_name": "HBoxModel",
      "_view_count": null,
      "_view_module": "@jupyter-widgets/controls",
      "_view_module_version": "1.5.0",
      "_view_name": "HBoxView",
      "box_style": "",
      "children": [
       "IPY_MODEL_2e4a9bbde87047ff84a02ddf45cb26fd",
       "IPY_MODEL_3991f9ceea354122a4393bc9b53f0104",
       "IPY_MODEL_c730a4971b8947e9860e6882343dbf45"
      ],
      "layout": "IPY_MODEL_f8023f0a0ea147dc9ef880c1e8bfd821"
     }
    },
    "97aa352dc5c14616b6b38d7ed3f4dcaf": {
     "model_module": "@jupyter-widgets/base",
     "model_module_version": "1.2.0",
     "model_name": "LayoutModel",
     "state": {
      "_model_module": "@jupyter-widgets/base",
      "_model_module_version": "1.2.0",
      "_model_name": "LayoutModel",
      "_view_count": null,
      "_view_module": "@jupyter-widgets/base",
      "_view_module_version": "1.2.0",
      "_view_name": "LayoutView",
      "align_content": null,
      "align_items": null,
      "align_self": null,
      "border": null,
      "bottom": null,
      "display": null,
      "flex": null,
      "flex_flow": null,
      "grid_area": null,
      "grid_auto_columns": null,
      "grid_auto_flow": null,
      "grid_auto_rows": null,
      "grid_column": null,
      "grid_gap": null,
      "grid_row": null,
      "grid_template_areas": null,
      "grid_template_columns": null,
      "grid_template_rows": null,
      "height": null,
      "justify_content": null,
      "justify_items": null,
      "left": null,
      "margin": null,
      "max_height": null,
      "max_width": null,
      "min_height": null,
      "min_width": null,
      "object_fit": null,
      "object_position": null,
      "order": null,
      "overflow": null,
      "overflow_x": null,
      "overflow_y": null,
      "padding": null,
      "right": null,
      "top": null,
      "visibility": null,
      "width": null
     }
    },
    "9c9ca0401f8a497d8b7477aea56dfc25": {
     "model_module": "@jupyter-widgets/controls",
     "model_module_version": "1.5.0",
     "model_name": "HTMLModel",
     "state": {
      "_dom_classes": [],
      "_model_module": "@jupyter-widgets/controls",
      "_model_module_version": "1.5.0",
      "_model_name": "HTMLModel",
      "_view_count": null,
      "_view_module": "@jupyter-widgets/controls",
      "_view_module_version": "1.5.0",
      "_view_name": "HTMLView",
      "description": "",
      "description_tooltip": null,
      "layout": "IPY_MODEL_97aa352dc5c14616b6b38d7ed3f4dcaf",
      "placeholder": "​",
      "style": "IPY_MODEL_db677e22c94b4b7aa8b8d8de0515d70f",
      "value": ""
     }
    },
    "a96fad193fcf40beb74cddbacbdf250a": {
     "model_module": "@jupyter-widgets/base",
     "model_module_version": "1.2.0",
     "model_name": "LayoutModel",
     "state": {
      "_model_module": "@jupyter-widgets/base",
      "_model_module_version": "1.2.0",
      "_model_name": "LayoutModel",
      "_view_count": null,
      "_view_module": "@jupyter-widgets/base",
      "_view_module_version": "1.2.0",
      "_view_name": "LayoutView",
      "align_content": null,
      "align_items": null,
      "align_self": null,
      "border": null,
      "bottom": null,
      "display": null,
      "flex": null,
      "flex_flow": null,
      "grid_area": null,
      "grid_auto_columns": null,
      "grid_auto_flow": null,
      "grid_auto_rows": null,
      "grid_column": null,
      "grid_gap": null,
      "grid_row": null,
      "grid_template_areas": null,
      "grid_template_columns": null,
      "grid_template_rows": null,
      "height": null,
      "justify_content": null,
      "justify_items": null,
      "left": null,
      "margin": null,
      "max_height": null,
      "max_width": null,
      "min_height": null,
      "min_width": null,
      "object_fit": null,
      "object_position": null,
      "order": null,
      "overflow": null,
      "overflow_x": null,
      "overflow_y": null,
      "padding": null,
      "right": null,
      "top": null,
      "visibility": null,
      "width": null
     }
    },
    "ae7081b76d7646029fbbcb24f25d3b00": {
     "model_module": "@jupyter-widgets/base",
     "model_module_version": "1.2.0",
     "model_name": "LayoutModel",
     "state": {
      "_model_module": "@jupyter-widgets/base",
      "_model_module_version": "1.2.0",
      "_model_name": "LayoutModel",
      "_view_count": null,
      "_view_module": "@jupyter-widgets/base",
      "_view_module_version": "1.2.0",
      "_view_name": "LayoutView",
      "align_content": null,
      "align_items": null,
      "align_self": null,
      "border": null,
      "bottom": null,
      "display": null,
      "flex": null,
      "flex_flow": null,
      "grid_area": null,
      "grid_auto_columns": null,
      "grid_auto_flow": null,
      "grid_auto_rows": null,
      "grid_column": null,
      "grid_gap": null,
      "grid_row": null,
      "grid_template_areas": null,
      "grid_template_columns": null,
      "grid_template_rows": null,
      "height": null,
      "justify_content": null,
      "justify_items": null,
      "left": null,
      "margin": null,
      "max_height": null,
      "max_width": null,
      "min_height": null,
      "min_width": null,
      "object_fit": null,
      "object_position": null,
      "order": null,
      "overflow": null,
      "overflow_x": null,
      "overflow_y": null,
      "padding": null,
      "right": null,
      "top": null,
      "visibility": null,
      "width": null
     }
    },
    "af4d34f6188646ee95c43e18f9f16007": {
     "model_module": "@jupyter-widgets/base",
     "model_module_version": "1.2.0",
     "model_name": "LayoutModel",
     "state": {
      "_model_module": "@jupyter-widgets/base",
      "_model_module_version": "1.2.0",
      "_model_name": "LayoutModel",
      "_view_count": null,
      "_view_module": "@jupyter-widgets/base",
      "_view_module_version": "1.2.0",
      "_view_name": "LayoutView",
      "align_content": null,
      "align_items": null,
      "align_self": null,
      "border": null,
      "bottom": null,
      "display": null,
      "flex": null,
      "flex_flow": null,
      "grid_area": null,
      "grid_auto_columns": null,
      "grid_auto_flow": null,
      "grid_auto_rows": null,
      "grid_column": null,
      "grid_gap": null,
      "grid_row": null,
      "grid_template_areas": null,
      "grid_template_columns": null,
      "grid_template_rows": null,
      "height": null,
      "justify_content": null,
      "justify_items": null,
      "left": null,
      "margin": null,
      "max_height": null,
      "max_width": null,
      "min_height": null,
      "min_width": null,
      "object_fit": null,
      "object_position": null,
      "order": null,
      "overflow": null,
      "overflow_x": null,
      "overflow_y": null,
      "padding": null,
      "right": null,
      "top": null,
      "visibility": null,
      "width": null
     }
    },
    "b0cbc9157a4341b48b6d1e8138fa33fd": {
     "model_module": "@jupyter-widgets/base",
     "model_module_version": "1.2.0",
     "model_name": "LayoutModel",
     "state": {
      "_model_module": "@jupyter-widgets/base",
      "_model_module_version": "1.2.0",
      "_model_name": "LayoutModel",
      "_view_count": null,
      "_view_module": "@jupyter-widgets/base",
      "_view_module_version": "1.2.0",
      "_view_name": "LayoutView",
      "align_content": null,
      "align_items": null,
      "align_self": null,
      "border": null,
      "bottom": null,
      "display": null,
      "flex": null,
      "flex_flow": null,
      "grid_area": null,
      "grid_auto_columns": null,
      "grid_auto_flow": null,
      "grid_auto_rows": null,
      "grid_column": null,
      "grid_gap": null,
      "grid_row": null,
      "grid_template_areas": null,
      "grid_template_columns": null,
      "grid_template_rows": null,
      "height": null,
      "justify_content": null,
      "justify_items": null,
      "left": null,
      "margin": null,
      "max_height": null,
      "max_width": null,
      "min_height": null,
      "min_width": null,
      "object_fit": null,
      "object_position": null,
      "order": null,
      "overflow": null,
      "overflow_x": null,
      "overflow_y": null,
      "padding": null,
      "right": null,
      "top": null,
      "visibility": null,
      "width": null
     }
    },
    "b9551fa6180846e18b0b21135269f82c": {
     "model_module": "@jupyter-widgets/controls",
     "model_module_version": "1.5.0",
     "model_name": "DescriptionStyleModel",
     "state": {
      "_model_module": "@jupyter-widgets/controls",
      "_model_module_version": "1.5.0",
      "_model_name": "DescriptionStyleModel",
      "_view_count": null,
      "_view_module": "@jupyter-widgets/base",
      "_view_module_version": "1.2.0",
      "_view_name": "StyleView",
      "description_width": ""
     }
    },
    "c582b4bec30b4ac5af09e5263bf59aa1": {
     "model_module": "@jupyter-widgets/base",
     "model_module_version": "1.2.0",
     "model_name": "LayoutModel",
     "state": {
      "_model_module": "@jupyter-widgets/base",
      "_model_module_version": "1.2.0",
      "_model_name": "LayoutModel",
      "_view_count": null,
      "_view_module": "@jupyter-widgets/base",
      "_view_module_version": "1.2.0",
      "_view_name": "LayoutView",
      "align_content": null,
      "align_items": null,
      "align_self": null,
      "border": null,
      "bottom": null,
      "display": null,
      "flex": null,
      "flex_flow": null,
      "grid_area": null,
      "grid_auto_columns": null,
      "grid_auto_flow": null,
      "grid_auto_rows": null,
      "grid_column": null,
      "grid_gap": null,
      "grid_row": null,
      "grid_template_areas": null,
      "grid_template_columns": null,
      "grid_template_rows": null,
      "height": null,
      "justify_content": null,
      "justify_items": null,
      "left": null,
      "margin": null,
      "max_height": null,
      "max_width": null,
      "min_height": null,
      "min_width": null,
      "object_fit": null,
      "object_position": null,
      "order": null,
      "overflow": null,
      "overflow_x": null,
      "overflow_y": null,
      "padding": null,
      "right": null,
      "top": null,
      "visibility": null,
      "width": null
     }
    },
    "c730a4971b8947e9860e6882343dbf45": {
     "model_module": "@jupyter-widgets/controls",
     "model_module_version": "1.5.0",
     "model_name": "HTMLModel",
     "state": {
      "_dom_classes": [],
      "_model_module": "@jupyter-widgets/controls",
      "_model_module_version": "1.5.0",
      "_model_name": "HTMLModel",
      "_view_count": null,
      "_view_module": "@jupyter-widgets/controls",
      "_view_module_version": "1.5.0",
      "_view_name": "HTMLView",
      "description": "",
      "description_tooltip": null,
      "layout": "IPY_MODEL_6c59a31393344b87b6d76d6be94c5e46",
      "placeholder": "​",
      "style": "IPY_MODEL_180f06294ff8485dbceec9b06c6e2a01",
      "value": " 9913344/? [00:00&lt;00:00, 38334096.12it/s]"
     }
    },
    "d18bfb5f79154bdf884aa10f3c3f2a98": {
     "model_module": "@jupyter-widgets/controls",
     "model_module_version": "1.5.0",
     "model_name": "DescriptionStyleModel",
     "state": {
      "_model_module": "@jupyter-widgets/controls",
      "_model_module_version": "1.5.0",
      "_model_name": "DescriptionStyleModel",
      "_view_count": null,
      "_view_module": "@jupyter-widgets/base",
      "_view_module_version": "1.2.0",
      "_view_name": "StyleView",
      "description_width": ""
     }
    },
    "d7e4d168d6d442969017296d7b4159ba": {
     "model_module": "@jupyter-widgets/base",
     "model_module_version": "1.2.0",
     "model_name": "LayoutModel",
     "state": {
      "_model_module": "@jupyter-widgets/base",
      "_model_module_version": "1.2.0",
      "_model_name": "LayoutModel",
      "_view_count": null,
      "_view_module": "@jupyter-widgets/base",
      "_view_module_version": "1.2.0",
      "_view_name": "LayoutView",
      "align_content": null,
      "align_items": null,
      "align_self": null,
      "border": null,
      "bottom": null,
      "display": null,
      "flex": null,
      "flex_flow": null,
      "grid_area": null,
      "grid_auto_columns": null,
      "grid_auto_flow": null,
      "grid_auto_rows": null,
      "grid_column": null,
      "grid_gap": null,
      "grid_row": null,
      "grid_template_areas": null,
      "grid_template_columns": null,
      "grid_template_rows": null,
      "height": null,
      "justify_content": null,
      "justify_items": null,
      "left": null,
      "margin": null,
      "max_height": null,
      "max_width": null,
      "min_height": null,
      "min_width": null,
      "object_fit": null,
      "object_position": null,
      "order": null,
      "overflow": null,
      "overflow_x": null,
      "overflow_y": null,
      "padding": null,
      "right": null,
      "top": null,
      "visibility": null,
      "width": null
     }
    },
    "db677e22c94b4b7aa8b8d8de0515d70f": {
     "model_module": "@jupyter-widgets/controls",
     "model_module_version": "1.5.0",
     "model_name": "DescriptionStyleModel",
     "state": {
      "_model_module": "@jupyter-widgets/controls",
      "_model_module_version": "1.5.0",
      "_model_name": "DescriptionStyleModel",
      "_view_count": null,
      "_view_module": "@jupyter-widgets/base",
      "_view_module_version": "1.2.0",
      "_view_name": "StyleView",
      "description_width": ""
     }
    },
    "dc871215ba1a42a49a6d5cf39c101172": {
     "model_module": "@jupyter-widgets/controls",
     "model_module_version": "1.5.0",
     "model_name": "HTMLModel",
     "state": {
      "_dom_classes": [],
      "_model_module": "@jupyter-widgets/controls",
      "_model_module_version": "1.5.0",
      "_model_name": "HTMLModel",
      "_view_count": null,
      "_view_module": "@jupyter-widgets/controls",
      "_view_module_version": "1.5.0",
      "_view_name": "HTMLView",
      "description": "",
      "description_tooltip": null,
      "layout": "IPY_MODEL_4380bdbf75bc4b798b2386530c9229f9",
      "placeholder": "​",
      "style": "IPY_MODEL_3a3149c914f14eb7ae10c961baf8e64e",
      "value": " 29696/? [00:00&lt;00:00, 663287.15it/s]"
     }
    },
    "e1077407eb15472d96d080216e5226c1": {
     "model_module": "@jupyter-widgets/controls",
     "model_module_version": "1.5.0",
     "model_name": "FloatProgressModel",
     "state": {
      "_dom_classes": [],
      "_model_module": "@jupyter-widgets/controls",
      "_model_module_version": "1.5.0",
      "_model_name": "FloatProgressModel",
      "_view_count": null,
      "_view_module": "@jupyter-widgets/controls",
      "_view_module_version": "1.5.0",
      "_view_name": "ProgressView",
      "bar_style": "success",
      "description": "",
      "description_tooltip": null,
      "layout": "IPY_MODEL_f698bf5eb74b4d69ad21f6233908530e",
      "max": 28881,
      "min": 0,
      "orientation": "horizontal",
      "style": "IPY_MODEL_0808bcee4f0c4c039ac00660dae1da8d",
      "value": 28881
     }
    },
    "f698bf5eb74b4d69ad21f6233908530e": {
     "model_module": "@jupyter-widgets/base",
     "model_module_version": "1.2.0",
     "model_name": "LayoutModel",
     "state": {
      "_model_module": "@jupyter-widgets/base",
      "_model_module_version": "1.2.0",
      "_model_name": "LayoutModel",
      "_view_count": null,
      "_view_module": "@jupyter-widgets/base",
      "_view_module_version": "1.2.0",
      "_view_name": "LayoutView",
      "align_content": null,
      "align_items": null,
      "align_self": null,
      "border": null,
      "bottom": null,
      "display": null,
      "flex": null,
      "flex_flow": null,
      "grid_area": null,
      "grid_auto_columns": null,
      "grid_auto_flow": null,
      "grid_auto_rows": null,
      "grid_column": null,
      "grid_gap": null,
      "grid_row": null,
      "grid_template_areas": null,
      "grid_template_columns": null,
      "grid_template_rows": null,
      "height": null,
      "justify_content": null,
      "justify_items": null,
      "left": null,
      "margin": null,
      "max_height": null,
      "max_width": null,
      "min_height": null,
      "min_width": null,
      "object_fit": null,
      "object_position": null,
      "order": null,
      "overflow": null,
      "overflow_x": null,
      "overflow_y": null,
      "padding": null,
      "right": null,
      "top": null,
      "visibility": null,
      "width": null
     }
    },
    "f8023f0a0ea147dc9ef880c1e8bfd821": {
     "model_module": "@jupyter-widgets/base",
     "model_module_version": "1.2.0",
     "model_name": "LayoutModel",
     "state": {
      "_model_module": "@jupyter-widgets/base",
      "_model_module_version": "1.2.0",
      "_model_name": "LayoutModel",
      "_view_count": null,
      "_view_module": "@jupyter-widgets/base",
      "_view_module_version": "1.2.0",
      "_view_name": "LayoutView",
      "align_content": null,
      "align_items": null,
      "align_self": null,
      "border": null,
      "bottom": null,
      "display": null,
      "flex": null,
      "flex_flow": null,
      "grid_area": null,
      "grid_auto_columns": null,
      "grid_auto_flow": null,
      "grid_auto_rows": null,
      "grid_column": null,
      "grid_gap": null,
      "grid_row": null,
      "grid_template_areas": null,
      "grid_template_columns": null,
      "grid_template_rows": null,
      "height": null,
      "justify_content": null,
      "justify_items": null,
      "left": null,
      "margin": null,
      "max_height": null,
      "max_width": null,
      "min_height": null,
      "min_width": null,
      "object_fit": null,
      "object_position": null,
      "order": null,
      "overflow": null,
      "overflow_x": null,
      "overflow_y": null,
      "padding": null,
      "right": null,
      "top": null,
      "visibility": null,
      "width": null
     }
    },
    "faff48ec28234fedb65626aa9416c6cd": {
     "model_module": "@jupyter-widgets/controls",
     "model_module_version": "1.5.0",
     "model_name": "ProgressStyleModel",
     "state": {
      "_model_module": "@jupyter-widgets/controls",
      "_model_module_version": "1.5.0",
      "_model_name": "ProgressStyleModel",
      "_view_count": null,
      "_view_module": "@jupyter-widgets/base",
      "_view_module_version": "1.2.0",
      "_view_name": "StyleView",
      "bar_color": null,
      "description_width": ""
     }
    }
   }
  }
 },
 "nbformat": 4,
 "nbformat_minor": 4
}
